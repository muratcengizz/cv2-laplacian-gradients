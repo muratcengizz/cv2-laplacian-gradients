{
 "cells": [
  {
   "cell_type": "code",
   "execution_count": 1,
   "id": "0a1436e9-df99-49ed-8bbf-8dfce2a8edbd",
   "metadata": {},
   "outputs": [],
   "source": [
    "import cv2\n",
    "import numpy as np"
   ]
  },
  {
   "cell_type": "code",
   "execution_count": 7,
   "id": "815fbd37-631e-463a-aa9b-6a9d9ee89cc1",
   "metadata": {},
   "outputs": [
    {
     "data": {
      "text/plain": [
       "(None, -1)"
      ]
     },
     "execution_count": 7,
     "metadata": {},
     "output_type": "execute_result"
    }
   ],
   "source": [
    "img = cv2.imread(filename='sudoku.jpg', flags=0)\n",
    "cv2.imshow(winname='Sudoku', mat=img), cv2.waitKey(0)"
   ]
  },
  {
   "cell_type": "code",
   "execution_count": 10,
   "id": "86647c75-7d98-4b04-acdd-6a39ec21d9d3",
   "metadata": {},
   "outputs": [
    {
     "data": {
      "text/plain": [
       "-1"
      ]
     },
     "execution_count": 10,
     "metadata": {},
     "output_type": "execute_result"
    }
   ],
   "source": [
    "# X gradyan\n",
    "sobelx = cv2.Sobel(src=img, ddepth=cv2.CV_16S, dx=1, dy=0, ksize=5)\n",
    "cv2.imshow(winname='Sobel X', mat=sobelx)\n",
    "cv2.imshow(winname='Orjinal', mat=img)\n",
    "cv2.waitKey(0)"
   ]
  },
  {
   "cell_type": "code",
   "execution_count": 11,
   "id": "440b7d20-dc7b-4869-ac1a-2327b3ad2aff",
   "metadata": {},
   "outputs": [
    {
     "data": {
      "text/plain": [
       "-1"
      ]
     },
     "execution_count": 11,
     "metadata": {},
     "output_type": "execute_result"
    }
   ],
   "source": [
    "# Y gradyan\n",
    "sobely = cv2.Sobel(src=img, ddepth=cv2.CV_16S, dx=0, dy=1, ksize=5)\n",
    "cv2.imshow(winname='Sobel Y', mat=sobely)\n",
    "cv2.imshow(winname='Sobel X', mat=sobelx)\n",
    "cv2.imshow(winname='Orjinal', mat=img)\n",
    "cv2.waitKey(0)"
   ]
  },
  {
   "cell_type": "code",
   "execution_count": 17,
   "id": "f3c686eb-f86f-41db-8a37-f7ef0421e490",
   "metadata": {},
   "outputs": [
    {
     "data": {
      "text/plain": [
       "(None, -1)"
      ]
     },
     "execution_count": 17,
     "metadata": {},
     "output_type": "execute_result"
    }
   ],
   "source": [
    "laplacian = cv2.Laplacian(src=img, ddepth=cv2.CV_64F, ksize=3)\n",
    "cv2.imshow(winname='Laplacian Gradient', mat=laplacian), cv2.waitKey(0)"
   ]
  },
  {
   "cell_type": "code",
   "execution_count": null,
   "id": "803cbe32-7e5f-476a-a6ef-b18b4085f05a",
   "metadata": {},
   "outputs": [],
   "source": []
  },
  {
   "cell_type": "markdown",
   "id": "3e3453ac-ed1e-4fef-92d2-203ca20f0aea",
   "metadata": {},
   "source": [
    "## cv2.Sobel(src, ddepth, dx, dy, ksize)\n",
    "### 'cv2.Sobel' fonksiyonu, OpenCV kütüphanesinde gradyan hesaplama işlemi yapmak için kullanılır. Bu fonksiyonun parametreleri aşağıdaki gibi tanımlanır.\n",
    "### src: Girdi görüntüsüdür. 8-bit derinlikte ve tek kanallı (grayscale) veya üç kanallı (renkli) bir görüntü olmalıdır.\n",
    "### ddepth: Türetilmiş gradyan görüntüsünün derinliğini belirler. Negatif değerler kullanılarak otomatik olarak hesaplanır. Genellikle -1 kullanılarak orjinal görüntünün derinliğiyle aynı kalır.\n",
    "### dx: Görüntünün x yönündeki gradyan düzenleyicisini belirler. Varsayılan değeri 1'dir.\n",
    "### dy: Görüntünün y yönündeki gradyan düzenleyicisini belirler. Varsayılan değeri 0'dır.\n",
    "### ksize: Gradyan hesaplamı işlemi için kullanılacak Sobel çekirdek boyutunu belirler. Varsayılan değeri 3'tür. Genellikle 1, 3, 5 veya 7 gibi tek sayılar kullanılır."
   ]
  },
  {
   "cell_type": "markdown",
   "id": "bc06665d-789f-46a7-9c47-e4c16a65f82a",
   "metadata": {},
   "source": [
    "## cv2.Laplacian(src, ddepth, ksize, scale, delta)\n",
    "### 'cv2.Laplacian()' fonksiyonu, bir görüntünün Laplacian gradyanını hesaplamak için kullanılan bir fonksiyondur. Laplacian gradyanı, görüntüdeki piksel yoğunluklarındaki ikinci dereceden değişiklikleri ifade eder. Bu değişiklikler, görüntünün düzeyindeki sıçramaları, kenarları veya noktalasal yapıları belirlemeye yardımcı olur.\n",
    "### src: Girdi görüntüsüdür.\n",
    "### ddepth: Türetilmiş gradyan görüntüsünün derinliğini belirler. Negatif değerler kullanılarak otomatik olarak hesaplanır. Genellikle '-1' kullanılarak orjinal görüntünün derinliğiyle aynı kalır.\n",
    "### ksize: Laplacian gradyanı hesaplama işlemi için kullanılacak çekirdek boyutunu belirler. Varsayılan değeri 1'dir. Genellikle 1, 3, 5 veya 7 gibi tek sayılar kullanılır.\n",
    "### scale: Türetilmiş gradyan görüntüsüne uygulanacak bir ölçek faktörüdür. Varsayılan değeri 1'dir.\n",
    "### delta: Türetilmiş gradyan görüntüsüne eklenen bir sapma terimidir. Varsayılan değeri 0'dır."
   ]
  }
 ],
 "metadata": {
  "kernelspec": {
   "display_name": "Python 3 (ipykernel)",
   "language": "python",
   "name": "python3"
  },
  "language_info": {
   "codemirror_mode": {
    "name": "ipython",
    "version": 3
   },
   "file_extension": ".py",
   "mimetype": "text/x-python",
   "name": "python",
   "nbconvert_exporter": "python",
   "pygments_lexer": "ipython3",
   "version": "3.9.12"
  }
 },
 "nbformat": 4,
 "nbformat_minor": 5
}
